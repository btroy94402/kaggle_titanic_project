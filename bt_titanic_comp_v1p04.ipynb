{
 "cells": [
  {
   "cell_type": "markdown",
   "metadata": {},
   "source": [
    "# The Kaggle Titanic Competition"
   ]
  },
  {
   "cell_type": "markdown",
   "metadata": {},
   "source": [
    "# Change Log:\n",
    "1.0 - Created and run\n",
    "\n",
    "1.01 - Updated links after long dormant period and verified functionality - 9/11/21\n",
    "\n",
    "1.02 - Obtained Deck level from Cabin.  Dropped Cabin and Ticket.  Optimized decision tree model hyperparameters methd, depth, leaf, and split.\n",
    "\n",
    "1.03 - Eliminated the train test split, trained on full training data, ran inferrence on test data, output test set result to csv file 'bt_titanic_v1.csv'.\n",
    "\n",
    "1.04 - Further feature engineering including keeping ticket but stripping numbers."
   ]
  },
  {
   "cell_type": "markdown",
   "metadata": {},
   "source": [
    "## Project Goals:\n",
    "* 1 - Create an initial simple classifier using a decision tree.\n",
    "* 2 - Revise the initial version with increasing sophistication, measured by significantly improved accuracy\n",
    "* 3 - Research Kaggle winner's for strategy, and impelement some learning to improve accuracy\n",
    "* 4 - Submit the model to the competition as my first Kaggle entry"
   ]
  },
  {
   "cell_type": "code",
   "execution_count": 49,
   "metadata": {
    "scrolled": true
   },
   "outputs": [],
   "source": [
    "# Import libraries necessary for this project\n",
    "import numpy as np\n",
    "import pandas as pd\n",
    "from IPython.display import display # Allows the use of display() for DataFrames\n",
    "\n",
    "# Pretty display for notebooks\n",
    "%matplotlib inline\n",
    "\n",
    "# Set a random seed\n",
    "import random\n",
    "random.seed(42)\n",
    "\n",
    "# Load the dataset\n",
    "in_file = '.\\\\data\\\\train.csv'\n",
    "test_file = '.\\\\data\\\\test.csv'\n",
    "\n",
    "full_data = pd.read_csv(in_file)\n",
    "test_data = pd.read_csv(test_file)\n",
    "\n",
    "# Print the first few entries of the RMS Titanic data\n",
    "    ###display(full_data.head())"
   ]
  },
  {
   "cell_type": "code",
   "execution_count": 50,
   "metadata": {},
   "outputs": [],
   "source": [
    "# Store the 'Survived' feature in a new variable and remove it from the dataset\n",
    "outcomes = full_data['Survived']\n",
    "############features_raw = full_data.drop('Survived', axis = 1)\n",
    "features_raw = full_data\n",
    "\n",
    "\n",
    "#Get deck level from Cabin # then discard Cabin (below) (or it will jack up one hot)\n",
    "features_raw['Deck'] = features_raw.Cabin.str[:1]\n",
    "test_data['Deck'] = test_data.Cabin.str[:1]\n",
    "\n",
    "# Show the new dataset with 'Survived' removed\n",
    "    ###display(features_raw.head())"
   ]
  },
  {
   "cell_type": "code",
   "execution_count": 51,
   "metadata": {},
   "outputs": [],
   "source": [
    "features_raw['ticket_str'] = features_raw['Ticket'].str.replace(' ','').str.replace('1','').str.replace('2','').str.replace('3','').str.replace('4','').str.replace('5','').str.replace('6','').str.replace('7','').str.replace('8','').str.replace('9','').str.replace('0','').str.replace('.','').str.replace('/','').replace('','none')\n",
    "test_data['ticket_str'] = test_data['Ticket'].str.replace(' ','').str.replace('1','').str.replace('2','').str.replace('3','').str.replace('4','').str.replace('5','').str.replace('6','').str.replace('7','').str.replace('8','').str.replace('9','').str.replace('0','').str.replace('.','').str.replace('/','').replace('','none')"
   ]
  },
  {
   "cell_type": "code",
   "execution_count": 52,
   "metadata": {},
   "outputs": [],
   "source": [
    "features_raw['ticket_str'] = features_raw['ticket_str'].str.upper()\n",
    "test_data['ticket_str'] = test_data['ticket_str'].str.upper()"
   ]
  },
  {
   "cell_type": "code",
   "execution_count": 53,
   "metadata": {},
   "outputs": [],
   "source": [
    "df1 = features_raw.groupby('ticket_str')['Survived'].sum()"
   ]
  },
  {
   "cell_type": "code",
   "execution_count": 54,
   "metadata": {},
   "outputs": [],
   "source": [
    "df2 = features_raw.groupby('ticket_str')['Survived'].count()"
   ]
  },
  {
   "cell_type": "code",
   "execution_count": 55,
   "metadata": {},
   "outputs": [
    {
     "data": {
      "text/plain": [
       "ticket_str\n",
       "A              2\n",
       "AS             0\n",
       "C              2\n",
       "CA            14\n",
       "CASOTON        0\n",
       "FA             0\n",
       "FC             0\n",
       "FCC            4\n",
       "LINE           1\n",
       "NONE         254\n",
       "PC            39\n",
       "PP             2\n",
       "PPP            1\n",
       "SC             1\n",
       "SCA            0\n",
       "SCAH           1\n",
       "SCAHBASLE      1\n",
       "SCOW           0\n",
       "SCPARIS        5\n",
       "SOC            1\n",
       "SOP            0\n",
       "SOPP           0\n",
       "SOTONO         0\n",
       "SOTONOQ        2\n",
       "SP             0\n",
       "STONO          8\n",
       "SWPP           2\n",
       "WC             1\n",
       "WEP            1\n",
       "Name: Survived, dtype: int64"
      ]
     },
     "execution_count": 55,
     "metadata": {},
     "output_type": "execute_result"
    }
   ],
   "source": [
    "df1"
   ]
  },
  {
   "cell_type": "code",
   "execution_count": 56,
   "metadata": {},
   "outputs": [
    {
     "data": {
      "text/plain": [
       "ticket_str\n",
       "A             28\n",
       "AS             1\n",
       "C              5\n",
       "CA            41\n",
       "CASOTON        1\n",
       "FA             1\n",
       "FC             1\n",
       "FCC            5\n",
       "LINE           4\n",
       "NONE         661\n",
       "PC            60\n",
       "PP             3\n",
       "PPP            2\n",
       "SC             1\n",
       "SCA            1\n",
       "SCAH           2\n",
       "SCAHBASLE      1\n",
       "SCOW           1\n",
       "SCPARIS       11\n",
       "SOC            6\n",
       "SOP            1\n",
       "SOPP           3\n",
       "SOTONO         2\n",
       "SOTONOQ       15\n",
       "SP             1\n",
       "STONO         18\n",
       "SWPP           2\n",
       "WC            10\n",
       "WEP            3\n",
       "Name: Survived, dtype: int64"
      ]
     },
     "execution_count": 56,
     "metadata": {},
     "output_type": "execute_result"
    }
   ],
   "source": [
    "df2"
   ]
  },
  {
   "cell_type": "code",
   "execution_count": 59,
   "metadata": {},
   "outputs": [],
   "source": [
    "df3 = (df1 / df2) *100"
   ]
  },
  {
   "cell_type": "code",
   "execution_count": 60,
   "metadata": {},
   "outputs": [
    {
     "data": {
      "text/plain": [
       "ticket_str\n",
       "A              7.142857\n",
       "AS             0.000000\n",
       "C             40.000000\n",
       "CA            34.146341\n",
       "CASOTON        0.000000\n",
       "FA             0.000000\n",
       "FC             0.000000\n",
       "FCC           80.000000\n",
       "LINE          25.000000\n",
       "NONE          38.426626\n",
       "PC            65.000000\n",
       "PP            66.666667\n",
       "PPP           50.000000\n",
       "SC           100.000000\n",
       "SCA            0.000000\n",
       "SCAH          50.000000\n",
       "SCAHBASLE    100.000000\n",
       "SCOW           0.000000\n",
       "SCPARIS       45.454545\n",
       "SOC           16.666667\n",
       "SOP            0.000000\n",
       "SOPP           0.000000\n",
       "SOTONO         0.000000\n",
       "SOTONOQ       13.333333\n",
       "SP             0.000000\n",
       "STONO         44.444444\n",
       "SWPP         100.000000\n",
       "WC            10.000000\n",
       "WEP           33.333333\n",
       "Name: Survived, dtype: float64"
      ]
     },
     "execution_count": 60,
     "metadata": {},
     "output_type": "execute_result"
    }
   ],
   "source": [
    "df3"
   ]
  },
  {
   "cell_type": "code",
   "execution_count": 37,
   "metadata": {},
   "outputs": [],
   "source": [
    "%matplotlib inline\n",
    "\n",
    "import pandas as pd\n",
    "import matplotlib.pyplot as plt\n",
    "from matplotlib.ticker import PercentFormatter\n",
    "\n",
    "\n",
    "def _plot_pareto_by(df_, group_by, column):\n",
    "\n",
    "    df = df_.groupby(group_by)[column].sum().reset_index()\n",
    "    df = df.sort_values(by=column,ascending=False)\n",
    "\n",
    "    df[\"cumpercentage\"] = df[column].cumsum()/df[column].sum()*100\n",
    "\n",
    "\n",
    "    fig, ax = plt.subplots(figsize=(20,5))\n",
    "    ax.bar(df[group_by], df[column], color=\"C0\")\n",
    "    ax2 = ax.twinx()\n",
    "    ax2.plot(df[group_by], df[\"cumpercentage\"], color=\"C1\", marker=\"D\", ms=7)\n",
    "    ax2.yaxis.set_major_formatter(PercentFormatter())\n",
    "\n",
    "    ax.tick_params(axis=\"y\", colors=\"C0\")\n",
    "    ax2.tick_params(axis=\"y\", colors=\"C1\")\n",
    "\n",
    "    for tick in ax.get_xticklabels():\n",
    "        tick.set_rotation(45)\n",
    "    plt.show()"
   ]
  },
  {
   "cell_type": "code",
   "execution_count": 5,
   "metadata": {},
   "outputs": [
    {
     "name": "stdout",
     "output_type": "stream",
     "text": [
      "A\n",
      "PC\n",
      "STONO\n",
      "NONE\n",
      "PP\n",
      "CA\n",
      "SCPARIS\n",
      "SCA\n",
      "SP\n",
      "SOC\n",
      "WC\n",
      "SOTONOQ\n",
      "WEP\n",
      "C\n",
      "SOP\n",
      "FA\n",
      "LINE\n",
      "FCC\n",
      "SWPP\n",
      "SCOW\n",
      "PPP\n",
      "SC\n",
      "SCAH\n",
      "AS\n",
      "SCAHBASLE\n",
      "SOPP\n",
      "FC\n",
      "SOTONO\n",
      "CASOTON\n"
     ]
    }
   ],
   "source": [
    "for a in features_raw['ticket_str'].unique():\n",
    "    print(a)\n"
   ]
  },
  {
   "cell_type": "code",
   "execution_count": 6,
   "metadata": {},
   "outputs": [
    {
     "name": "stdout",
     "output_type": "stream",
     "text": [
      "NONE\n",
      "A\n",
      "WEP\n",
      "SCPARIS\n",
      "STONO\n",
      "PC\n",
      "C\n",
      "SCAH\n",
      "CA\n",
      "WC\n",
      "SOTONOQ\n",
      "SCA\n",
      "FCC\n",
      "FC\n",
      "PP\n",
      "STONOQ\n",
      "SOPP\n",
      "SOC\n",
      "SOTONO\n",
      "AQ\n",
      "SC\n",
      "LP\n"
     ]
    }
   ],
   "source": [
    "for a in test_data['ticket_str'].unique():\n",
    "    print(a)\n"
   ]
  },
  {
   "cell_type": "code",
   "execution_count": 7,
   "metadata": {},
   "outputs": [
    {
     "data": {
      "text/plain": [
       "array(['A', 'PC', 'STONO', 'NONE', 'PP', 'CA', 'SCPARIS', 'SCA', 'SP',\n",
       "       'SOC', 'WC', 'SOTONOQ', 'WEP', 'C', 'SOP', 'FA', 'LINE', 'FCC',\n",
       "       'SWPP', 'SCOW', 'PPP', 'SC', 'SCAH', 'AS', 'SCAHBASLE', 'SOPP',\n",
       "       'FC', 'SOTONO', 'CASOTON'], dtype=object)"
      ]
     },
     "execution_count": 7,
     "metadata": {},
     "output_type": "execute_result"
    }
   ],
   "source": [
    "features_raw['ticket_str'].unique()"
   ]
  },
  {
   "cell_type": "code",
   "execution_count": 8,
   "metadata": {},
   "outputs": [
    {
     "data": {
      "text/plain": [
       "array(['NONE', 'A', 'WEP', 'SCPARIS', 'STONO', 'PC', 'C', 'SCAH', 'CA',\n",
       "       'WC', 'SOTONOQ', 'SCA', 'FCC', 'FC', 'PP', 'STONOQ', 'SOPP', 'SOC',\n",
       "       'SOTONO', 'AQ', 'SC', 'LP'], dtype=object)"
      ]
     },
     "execution_count": 8,
     "metadata": {},
     "output_type": "execute_result"
    }
   ],
   "source": [
    "test_data['ticket_str'].unique()"
   ]
  },
  {
   "cell_type": "code",
   "execution_count": 44,
   "metadata": {},
   "outputs": [],
   "source": [
    "# Removing the names, Cabin (have deck), Ticket (random dist)\n",
    "features_no_names = features_raw.drop(['Name', 'Cabin', 'Ticket'], axis=1)\n",
    "test_data = test_data.drop(['Name', 'Cabin', 'Ticket'], axis=1)\n",
    "\n",
    "# One-hot encoding\n",
    "features = pd.get_dummies(features_no_names)\n",
    "test_set = pd.get_dummies(test_data)\n",
    "test_set['Deck_T']=0"
   ]
  },
  {
   "cell_type": "code",
   "execution_count": 45,
   "metadata": {},
   "outputs": [],
   "source": [
    "features['LP'] = 0\n",
    "features['AQ'] = 0\n",
    "features['STONOQ'] = 0\n",
    "\n",
    "test_data['AS'] = 0\n",
    "test_data['CASOTON'] = 0\n",
    "test_data['FA'] = 0\n",
    "test_data['LINE'] = 0\n",
    "test_data['PPP'] = 0\n",
    "test_data['SCAHBASLE'] = 0\n",
    "test_data['SCOW'] = 0\n",
    "test_data['SOP'] = 0\n",
    "test_data['SP'] = 0\n",
    "test_data['SWPP'] = 0\n"
   ]
  },
  {
   "cell_type": "code",
   "execution_count": 46,
   "metadata": {},
   "outputs": [
    {
     "data": {
      "text/plain": [
       "51"
      ]
     },
     "execution_count": 46,
     "metadata": {},
     "output_type": "execute_result"
    }
   ],
   "source": [
    "len(features.columns)"
   ]
  },
  {
   "cell_type": "code",
   "execution_count": 47,
   "metadata": {},
   "outputs": [
    {
     "data": {
      "text/plain": [
       "41"
      ]
     },
     "execution_count": 47,
     "metadata": {},
     "output_type": "execute_result"
    }
   ],
   "source": [
    "len(test_set.columns)"
   ]
  },
  {
   "cell_type": "code",
   "execution_count": 48,
   "metadata": {},
   "outputs": [
    {
     "name": "stdout",
     "output_type": "stream",
     "text": [
      "PassengerId\n",
      "Pclass\n",
      "Age\n",
      "SibSp\n",
      "Parch\n",
      "Fare\n",
      "Sex_female\n",
      "Sex_male\n",
      "Embarked_C\n",
      "Embarked_Q\n",
      "Embarked_S\n",
      "Deck_A\n",
      "Deck_B\n",
      "Deck_C\n",
      "Deck_D\n",
      "Deck_E\n",
      "Deck_F\n",
      "Deck_G\n",
      "Deck_T\n",
      "ticket_str_A\n",
      "ticket_str_AS\n",
      "ticket_str_C\n",
      "ticket_str_CA\n",
      "ticket_str_CASOTON\n",
      "ticket_str_FA\n",
      "ticket_str_FC\n",
      "ticket_str_FCC\n",
      "ticket_str_LINE\n",
      "ticket_str_NONE\n",
      "ticket_str_PC\n",
      "ticket_str_PP\n",
      "ticket_str_PPP\n",
      "ticket_str_SC\n",
      "ticket_str_SCA\n",
      "ticket_str_SCAH\n",
      "ticket_str_SCAHBASLE\n",
      "ticket_str_SCOW\n",
      "ticket_str_SCPARIS\n",
      "ticket_str_SOC\n",
      "ticket_str_SOP\n",
      "ticket_str_SOPP\n",
      "ticket_str_SOTONO\n",
      "ticket_str_SOTONOQ\n",
      "ticket_str_SP\n",
      "ticket_str_STONO\n",
      "ticket_str_SWPP\n",
      "ticket_str_WC\n",
      "ticket_str_WEP\n",
      "LP\n",
      "AQ\n",
      "STONOQ\n"
     ]
    }
   ],
   "source": [
    "for col in features.columns:\n",
    "    print(col)"
   ]
  },
  {
   "cell_type": "code",
   "execution_count": 49,
   "metadata": {},
   "outputs": [
    {
     "name": "stdout",
     "output_type": "stream",
     "text": [
      "PassengerId\n",
      "Pclass\n",
      "Sex\n",
      "Age\n",
      "SibSp\n",
      "Parch\n",
      "Fare\n",
      "Embarked\n",
      "Deck\n",
      "ticket_str\n",
      "AS\n",
      "CASOTON\n",
      "FA\n",
      "LINE\n",
      "PPP\n",
      "SCAHBASLE\n",
      "SCOW\n",
      "SOP\n",
      "SP\n",
      "SWPP\n"
     ]
    }
   ],
   "source": [
    "for col in test_data.columns:\n",
    "    print(col)"
   ]
  },
  {
   "cell_type": "code",
   "execution_count": 6,
   "metadata": {},
   "outputs": [],
   "source": [
    "features = features.fillna(0.0)\n",
    "test_set = test_set.fillna(0.0)"
   ]
  },
  {
   "cell_type": "code",
   "execution_count": 7,
   "metadata": {},
   "outputs": [],
   "source": [
    "from sklearn.model_selection import train_test_split\n",
    "X_train, X_test, y_train, y_test = train_test_split(features, outcomes, test_size=0.2, random_state=42)"
   ]
  },
  {
   "cell_type": "code",
   "execution_count": 8,
   "metadata": {},
   "outputs": [],
   "source": [
    "X_train = features\n",
    "X_test = test_set\n",
    "y_train = outcomes"
   ]
  },
  {
   "cell_type": "code",
   "execution_count": 9,
   "metadata": {},
   "outputs": [],
   "source": [
    "# Import the classifier from sklearn\n",
    "from sklearn.tree import DecisionTreeClassifier\n",
    "\n",
    "# TODO: Define the classifier, and fit it to the data\n",
    "#Note: I iterated on hyperparameters below to tune them.  Gini better than Entropy, max depth = 7-11 good, min samples leaf = 6 is golden!, min samples split = no effect\n",
    "model = DecisionTreeClassifier(criterion='gini', max_depth = 10, min_samples_leaf = 3,min_samples_split =16)\n",
    "\n",
    "model = model.fit(X_train,y_train)"
   ]
  },
  {
   "cell_type": "code",
   "execution_count": 10,
   "metadata": {},
   "outputs": [
    {
     "name": "stdout",
     "output_type": "stream",
     "text": [
      "The training accuracy is 0.8787878787878788\n"
     ]
    }
   ],
   "source": [
    "# Making predictions\n",
    "y_train_pred = model.predict(X_train)\n",
    "y_test_pred = model.predict(X_test)\n",
    "\n",
    "# Calculate the accuracy\n",
    "from sklearn.metrics import accuracy_score\n",
    "train_accuracy = accuracy_score(y_train, y_train_pred)\n",
    "#test_accuracy = accuracy_score(y_test, y_test_pred)\n",
    "print('The training accuracy is', train_accuracy)\n",
    "#print('The test accuracy is', test_accuracy)"
   ]
  },
  {
   "cell_type": "code",
   "execution_count": 11,
   "metadata": {},
   "outputs": [],
   "source": [
    "test_ids = X_test['PassengerId'].to_numpy()"
   ]
  },
  {
   "cell_type": "code",
   "execution_count": 12,
   "metadata": {},
   "outputs": [
    {
     "data": {
      "text/plain": [
       "array([0, 0, 0, 0, 0, 0, 0, 1, 1, 0, 0, 0, 1, 0, 1, 1, 0, 0, 1, 0, 0, 1,\n",
       "       1, 0, 1, 0, 1, 0, 1, 0, 0, 0, 0, 0, 0, 0, 0, 1, 0, 0, 0, 1, 0, 1,\n",
       "       1, 0, 1, 0, 1, 0, 0, 0, 1, 1, 0, 0, 0, 0, 0, 1, 0, 0, 0, 0, 0, 1,\n",
       "       0, 0, 1, 1, 0, 0, 1, 1, 1, 0, 0, 1, 0, 0, 1, 0, 0, 0, 0, 0, 0, 1,\n",
       "       1, 0, 0, 0, 1, 0, 0, 0, 1, 0, 1, 0, 1, 0, 0, 0, 1, 0, 0, 0, 0, 0,\n",
       "       0, 1, 1, 0, 1, 0, 0, 0, 0, 1, 1, 0, 1, 0, 0, 0, 0, 1, 0, 0, 0, 1,\n",
       "       0, 0, 0, 0, 0, 0, 1, 0, 0, 1, 0, 0, 1, 0, 0, 0, 1, 0, 1, 0, 0, 0,\n",
       "       0, 0, 1, 1, 1, 0, 1, 1, 1, 0, 0, 0, 0, 0, 1, 1, 0, 0, 0, 0, 0, 1,\n",
       "       1, 0, 1, 1, 0, 0, 1, 0, 1, 0, 1, 0, 0, 0, 0, 0, 1, 0, 0, 0, 0, 1,\n",
       "       0, 0, 1, 1, 0, 1, 0, 0, 0, 0, 1, 0, 0, 0, 0, 1, 0, 0, 1, 0, 1, 0,\n",
       "       1, 0, 1, 0, 1, 0, 0, 1, 0, 0, 0, 1, 0, 0, 0, 0, 0, 0, 1, 1, 1, 1,\n",
       "       0, 0, 0, 0, 1, 0, 1, 0, 1, 0, 0, 0, 0, 0, 0, 0, 1, 0, 0, 0, 1, 0,\n",
       "       0, 0, 0, 0, 0, 0, 0, 0, 1, 1, 0, 1, 0, 0, 0, 0, 1, 1, 1, 0, 0, 0,\n",
       "       0, 0, 0, 0, 0, 0, 0, 0, 0, 0, 1, 0, 0, 0, 0, 0, 0, 0, 1, 1, 0, 1,\n",
       "       0, 0, 0, 0, 0, 0, 1, 0, 0, 0, 0, 0, 0, 0, 0, 1, 1, 0, 1, 0, 0, 0,\n",
       "       1, 1, 0, 0, 0, 0, 0, 0, 0, 0, 0, 0, 0, 1, 1, 0, 0, 0, 0, 1, 1, 0,\n",
       "       0, 0, 0, 0, 1, 0, 0, 0, 0, 1, 1, 0, 1, 0, 0, 0, 1, 0, 0, 1, 0, 0,\n",
       "       1, 1, 1, 0, 0, 0, 0, 0, 0, 0, 0, 1, 0, 0, 0, 0, 0, 1, 0, 0, 0, 1,\n",
       "       0, 1, 0, 0, 1, 0, 1, 0, 1, 0, 0, 0, 1, 0, 1, 1, 1, 0, 1, 0, 0, 0],\n",
       "      dtype=int64)"
      ]
     },
     "execution_count": 12,
     "metadata": {},
     "output_type": "execute_result"
    }
   ],
   "source": [
    "y_test_pred"
   ]
  },
  {
   "cell_type": "code",
   "execution_count": 13,
   "metadata": {},
   "outputs": [],
   "source": [
    "df = pd.DataFrame({'PassengerId':test_ids, 'Survived':y_test_pred})\n",
    "df = df.set_index('PassengerId')"
   ]
  },
  {
   "cell_type": "code",
   "execution_count": 14,
   "metadata": {},
   "outputs": [],
   "source": [
    "df.to_csv('bt_titanic_v1.csv')"
   ]
  }
 ],
 "metadata": {
  "kernelspec": {
   "display_name": "Python 3",
   "language": "python",
   "name": "python3"
  },
  "language_info": {
   "codemirror_mode": {
    "name": "ipython",
    "version": 3
   },
   "file_extension": ".py",
   "mimetype": "text/x-python",
   "name": "python",
   "nbconvert_exporter": "python",
   "pygments_lexer": "ipython3",
   "version": "3.7.5"
  }
 },
 "nbformat": 4,
 "nbformat_minor": 4
}
